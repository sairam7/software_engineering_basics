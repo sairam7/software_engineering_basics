{
  "nbformat": 4,
  "nbformat_minor": 0,
  "metadata": {
    "colab": {
      "provenance": []
    },
    "kernelspec": {
      "name": "python3",
      "display_name": "Python 3"
    },
    "language_info": {
      "name": "python"
    }
  },
  "cells": [
    {
      "cell_type": "code",
      "execution_count": 1,
      "metadata": {
        "colab": {
          "base_uri": "https://localhost:8080/"
        },
        "id": "9PZ9WxArp7tw",
        "outputId": "ff2fa88f-dbbb-431e-db24-968a3f8a5b91"
      },
      "outputs": [
        {
          "output_type": "stream",
          "name": "stdout",
          "text": [
            "\u001b[2K     \u001b[90m━━━━━━━━━━━━━━━━━━━━━━━━━━━━━━━━━━━━━━━\u001b[0m \u001b[32m310.8/310.8 MB\u001b[0m \u001b[31m2.4 MB/s\u001b[0m eta \u001b[36m0:00:00\u001b[0m\n",
            "\u001b[?25h  Preparing metadata (setup.py) ... \u001b[?25l\u001b[?25hdone\n",
            "  Building wheel for pyspark (setup.py) ... \u001b[?25l\u001b[?25hdone\n"
          ]
        }
      ],
      "source": [
        "!pip install -q pyspark\n",
        "from pyspark.sql import SparkSession\n",
        "spark = SparkSession.builder.config('spark.ui.port', '4050').getOrCreate()\n",
        "from pyspark.sql.types import StructType, StructField, StringType, IntegerType, FloatType,DateType"
      ]
    },
    {
      "cell_type": "code",
      "source": [
        "! pip install -q kaggle"
      ],
      "metadata": {
        "id": "1_R2-vIksjqy"
      },
      "execution_count": 2,
      "outputs": []
    },
    {
      "cell_type": "code",
      "source": [
        "from google.colab import files\n",
        "files.upload()"
      ],
      "metadata": {
        "id": "d77qPeUpsl3w"
      },
      "execution_count": null,
      "outputs": []
    },
    {
      "cell_type": "code",
      "source": [
        "!rm -r ~/.kaggle\n",
        "!mkdir ~/.kaggle\n",
        "!mv ./kaggle.json ~/.kaggle/\n",
        "!chmod 600 ~/.kaggle/kaggle.json"
      ],
      "metadata": {
        "colab": {
          "base_uri": "https://localhost:8080/"
        },
        "id": "T0pn2Qnyspe5",
        "outputId": "ea4afe38-6f44-4368-b13e-20b9df9d90b9"
      },
      "execution_count": 4,
      "outputs": [
        {
          "output_type": "stream",
          "name": "stdout",
          "text": [
            "rm: cannot remove '/root/.kaggle': No such file or directory\n"
          ]
        }
      ]
    },
    {
      "cell_type": "code",
      "source": [
        "!kaggle datasets download -d evanschreiner/netflix-movie-ratings"
      ],
      "metadata": {
        "colab": {
          "base_uri": "https://localhost:8080/"
        },
        "id": "079oJtZuuYvI",
        "outputId": "62ff34a9-9e6d-4539-ced4-b0fa5fb95362"
      },
      "execution_count": 5,
      "outputs": [
        {
          "output_type": "stream",
          "name": "stdout",
          "text": [
            "Downloading netflix-movie-ratings.zip to /content\n",
            "100% 684M/685M [00:23<00:00, 32.9MB/s]\n",
            "100% 685M/685M [00:23<00:00, 30.8MB/s]\n"
          ]
        }
      ]
    },
    {
      "cell_type": "code",
      "source": [
        "!ls\n",
        "!pwd"
      ],
      "metadata": {
        "colab": {
          "base_uri": "https://localhost:8080/"
        },
        "id": "mlsaQCkTuhRz",
        "outputId": "a911fcec-015d-4aeb-d88d-6e459697c918"
      },
      "execution_count": 9,
      "outputs": [
        {
          "output_type": "stream",
          "name": "stdout",
          "text": [
            "movies.csv  netflix-movie-ratings.zip  Netflix_User_Ratings.csv  sample_data\n",
            "/content\n"
          ]
        }
      ]
    },
    {
      "cell_type": "code",
      "source": [
        "!unzip netflix-movie-ratings.zip"
      ],
      "metadata": {
        "colab": {
          "base_uri": "https://localhost:8080/"
        },
        "id": "EtSuVZM8ukRq",
        "outputId": "6621b801-c5d1-487a-d3c7-3eb6f41e4b99"
      },
      "execution_count": 7,
      "outputs": [
        {
          "output_type": "stream",
          "name": "stdout",
          "text": [
            "Archive:  netflix-movie-ratings.zip\n",
            "  inflating: Netflix_User_Ratings.csv  \n",
            "  inflating: movies.csv              \n"
          ]
        }
      ]
    },
    {
      "cell_type": "code",
      "source": [
        "movies_schema = StructType([StructField('movie_id',IntegerType(),nullable=False),\n",
        "                            StructField('release_year',IntegerType(),nullable=False),\n",
        "                            StructField('movie_title',StringType(),nullable=False),\n",
        "    \n",
        "])"
      ],
      "metadata": {
        "id": "7a88Urd6vvkp"
      },
      "execution_count": 19,
      "outputs": []
    },
    {
      "cell_type": "code",
      "source": [
        "moviesDF = spark.read.csv(path='/content/movies.csv',header=True,schema=movies_schema)"
      ],
      "metadata": {
        "id": "6inCYLS3uy3Q"
      },
      "execution_count": 20,
      "outputs": []
    },
    {
      "cell_type": "code",
      "source": [
        "moviesDF.show(5)"
      ],
      "metadata": {
        "colab": {
          "base_uri": "https://localhost:8080/"
        },
        "id": "cFmtlk1hu98y",
        "outputId": "83057c92-df7a-4c03-bc81-f7127933450b"
      },
      "execution_count": 21,
      "outputs": [
        {
          "output_type": "stream",
          "name": "stdout",
          "text": [
            "+--------+------------+--------------------+\n",
            "|movie_id|release_year|         movie_title|\n",
            "+--------+------------+--------------------+\n",
            "|       1|        2003|     Dinosaur Planet|\n",
            "|       2|        2004|Isle of Man TT 20...|\n",
            "|       3|        1997|           Character|\n",
            "|       4|        1994|Paula Abdul's Get...|\n",
            "|       5|        2004|The Rise and Fall...|\n",
            "+--------+------------+--------------------+\n",
            "only showing top 5 rows\n",
            "\n"
          ]
        }
      ]
    },
    {
      "cell_type": "code",
      "source": [
        "user_rating_schema = StructType([StructField('cust_id',IntegerType(),nullable=False),\n",
        "                                 StructField('rating',IntegerType(),nullable=False),\n",
        "                                 StructField('date',DateType(),nullable=False),\n",
        "                                 StructField('movie_id',IntegerType(),nullable=False),\n",
        "    \n",
        "])"
      ],
      "metadata": {
        "id": "09faGg-jwS64"
      },
      "execution_count": 22,
      "outputs": []
    },
    {
      "cell_type": "code",
      "source": [
        "netflixUserRatingsDF = spark.read.csv(path='/content/Netflix_User_Ratings.csv',header=True,schema=user_rating_schema)"
      ],
      "metadata": {
        "id": "u25GYe5LvD42"
      },
      "execution_count": 23,
      "outputs": []
    },
    {
      "cell_type": "code",
      "source": [
        "netflixUserRatingsDF.show(5)"
      ],
      "metadata": {
        "colab": {
          "base_uri": "https://localhost:8080/"
        },
        "id": "DY6GTqdSvOdN",
        "outputId": "91090f83-c044-4fce-f8ca-197f44def5f5"
      },
      "execution_count": 24,
      "outputs": [
        {
          "output_type": "stream",
          "name": "stdout",
          "text": [
            "+-------+------+----------+--------+\n",
            "|cust_id|rating|      date|movie_id|\n",
            "+-------+------+----------+--------+\n",
            "|1488844|     3|2005-09-06|       1|\n",
            "| 822109|     5|2005-05-13|       1|\n",
            "| 885013|     4|2005-10-19|       1|\n",
            "|  30878|     4|2005-12-26|       1|\n",
            "| 823519|     3|2004-05-03|       1|\n",
            "+-------+------+----------+--------+\n",
            "only showing top 5 rows\n",
            "\n"
          ]
        }
      ]
    },
    {
      "cell_type": "code",
      "source": [
        "moviesDF.printSchema()"
      ],
      "metadata": {
        "colab": {
          "base_uri": "https://localhost:8080/"
        },
        "id": "j6PBgOSUvTHz",
        "outputId": "3dfb5a35-b52f-44c9-8b9a-4a4b055fb1d0"
      },
      "execution_count": 25,
      "outputs": [
        {
          "output_type": "stream",
          "name": "stdout",
          "text": [
            "root\n",
            " |-- movie_id: integer (nullable = true)\n",
            " |-- release_year: integer (nullable = true)\n",
            " |-- movie_title: string (nullable = true)\n",
            "\n"
          ]
        }
      ]
    },
    {
      "cell_type": "code",
      "source": [
        "netflixUserRatingsDF.printSchema()"
      ],
      "metadata": {
        "colab": {
          "base_uri": "https://localhost:8080/"
        },
        "id": "lo-GE1zJvbUu",
        "outputId": "894f8c90-65f0-457c-9bfa-fa62d8b0b702"
      },
      "execution_count": 26,
      "outputs": [
        {
          "output_type": "stream",
          "name": "stdout",
          "text": [
            "root\n",
            " |-- cust_id: integer (nullable = true)\n",
            " |-- rating: integer (nullable = true)\n",
            " |-- date: date (nullable = true)\n",
            " |-- movie_id: integer (nullable = true)\n",
            "\n"
          ]
        }
      ]
    },
    {
      "cell_type": "code",
      "source": [
        "movie_title_col = moviesDF.select('movie_title',(moviesDF['release_year']+10).alias('new_release_year'))"
      ],
      "metadata": {
        "id": "tI_GIKs6xCDE"
      },
      "execution_count": 35,
      "outputs": []
    },
    {
      "cell_type": "code",
      "source": [
        "movies_2003_df = moviesDF.filter(moviesDF['release_year']==2003).show(10)"
      ],
      "metadata": {
        "colab": {
          "base_uri": "https://localhost:8080/"
        },
        "id": "KrqCvyiQxXWQ",
        "outputId": "efe66f99-1963-4cb3-8f4a-5cb4a25b3827"
      },
      "execution_count": 39,
      "outputs": [
        {
          "output_type": "stream",
          "name": "stdout",
          "text": [
            "+--------+------------+--------------------+\n",
            "|movie_id|release_year|         movie_title|\n",
            "+--------+------------+--------------------+\n",
            "|       1|        2003|     Dinosaur Planet|\n",
            "|      13|        2003|Lord of the Rings...|\n",
            "|      30|        2003|Something's Gotta...|\n",
            "|      34|        2003|Ashtanga Yoga: Be...|\n",
            "|      38|        2003|  Daydream Obsession|\n",
            "|      49|        2003|Devo: The Complet...|\n",
            "|      53|        2003|      The Bonesetter|\n",
            "|      59|        2003|Sex and the Beauties|\n",
            "|      69|        2003|WWE: Armageddon 2003|\n",
            "|     111|        2003| Duplex (Widescreen)|\n",
            "+--------+------------+--------------------+\n",
            "only showing top 10 rows\n",
            "\n"
          ]
        }
      ]
    },
    {
      "cell_type": "code",
      "source": [
        "groupedDF = netflixUserRatingsDF.groupBy('movie_id').count()"
      ],
      "metadata": {
        "id": "8KS-VuMxyPLS"
      },
      "execution_count": 40,
      "outputs": []
    },
    {
      "cell_type": "code",
      "source": [
        "groupedDF.show(5)"
      ],
      "metadata": {
        "colab": {
          "base_uri": "https://localhost:8080/"
        },
        "id": "ybvug6Wqy_fg",
        "outputId": "341305db-8da7-4e44-a01f-ec52a41599ec"
      },
      "execution_count": 41,
      "outputs": [
        {
          "output_type": "stream",
          "name": "stdout",
          "text": [
            "+--------+-----+\n",
            "|movie_id|count|\n",
            "+--------+-----+\n",
            "|     148|22194|\n",
            "|     463| 2286|\n",
            "|     471| 4500|\n",
            "|     496|  235|\n",
            "|     833| 8378|\n",
            "+--------+-----+\n",
            "only showing top 5 rows\n",
            "\n"
          ]
        }
      ]
    },
    {
      "cell_type": "code",
      "source": [
        "from pyspark.sql.functions import col, max"
      ],
      "metadata": {
        "id": "A_5PeeJV0k0X"
      },
      "execution_count": 46,
      "outputs": []
    },
    {
      "cell_type": "code",
      "source": [],
      "metadata": {
        "colab": {
          "base_uri": "https://localhost:8080/",
          "height": 166
        },
        "id": "MIkDefQ8zwcj",
        "outputId": "2502d967-677e-49ac-d4a4-f1cc585906db"
      },
      "execution_count": 47,
      "outputs": [
        {
          "output_type": "error",
          "ename": "TypeError",
          "evalue": "ignored",
          "traceback": [
            "\u001b[0;31m---------------------------------------------------------------------------\u001b[0m",
            "\u001b[0;31mTypeError\u001b[0m                                 Traceback (most recent call last)",
            "\u001b[0;32m<ipython-input-47-89bae6429b22>\u001b[0m in \u001b[0;36m<cell line: 1>\u001b[0;34m()\u001b[0m\n\u001b[0;32m----> 1\u001b[0;31m \u001b[0mmax_count\u001b[0m \u001b[0;34m=\u001b[0m \u001b[0mgroupedDF\u001b[0m\u001b[0;34m.\u001b[0m\u001b[0mselect\u001b[0m\u001b[0;34m(\u001b[0m\u001b[0mmax\u001b[0m\u001b[0;34m(\u001b[0m\u001b[0mcol\u001b[0m\u001b[0;34m[\u001b[0m\u001b[0;34m'movie_id'\u001b[0m\u001b[0;34m]\u001b[0m\u001b[0;34m)\u001b[0m\u001b[0;34m)\u001b[0m\u001b[0;34m\u001b[0m\u001b[0;34m\u001b[0m\u001b[0m\n\u001b[0m",
            "\u001b[0;31mTypeError\u001b[0m: 'function' object is not subscriptable"
          ]
        }
      ]
    },
    {
      "cell_type": "code",
      "source": [
        "groupedDF.select(max(col(\"count\"))).show()"
      ],
      "metadata": {
        "colab": {
          "base_uri": "https://localhost:8080/"
        },
        "id": "wRkp2YFw0r1k",
        "outputId": "e4e3b10c-e935-4de7-d45e-e31de7ff4289"
      },
      "execution_count": 49,
      "outputs": [
        {
          "output_type": "stream",
          "name": "stdout",
          "text": [
            "+----------+\n",
            "|max(count)|\n",
            "+----------+\n",
            "|    232944|\n",
            "+----------+\n",
            "\n"
          ]
        }
      ]
    },
    {
      "cell_type": "code",
      "source": [
        "result = groupedDF.filter(groupedDF['count']==232944).show()"
      ],
      "metadata": {
        "colab": {
          "base_uri": "https://localhost:8080/"
        },
        "id": "C2HZjNas19xf",
        "outputId": "81c08917-5ea2-446f-ce8f-d3de20b0c25b"
      },
      "execution_count": 56,
      "outputs": [
        {
          "output_type": "stream",
          "name": "stdout",
          "text": [
            "+--------+------+\n",
            "|movie_id| count|\n",
            "+--------+------+\n",
            "|    5317|232944|\n",
            "+--------+------+\n",
            "\n"
          ]
        }
      ]
    },
    {
      "cell_type": "code",
      "source": [
        "moviesDF.filter(moviesDF['movie_id']==5317).show(5)"
      ],
      "metadata": {
        "colab": {
          "base_uri": "https://localhost:8080/"
        },
        "id": "zZjXS0JG2XhI",
        "outputId": "e9a5cf1e-7ff1-4e9a-a072-3ff8ab1f2b9f"
      },
      "execution_count": 57,
      "outputs": [
        {
          "output_type": "stream",
          "name": "stdout",
          "text": [
            "+--------+------------+-----------------+\n",
            "|movie_id|release_year|      movie_title|\n",
            "+--------+------------+-----------------+\n",
            "|    5317|        2000|Miss Congeniality|\n",
            "+--------+------------+-----------------+\n",
            "\n"
          ]
        }
      ]
    }
  ]
}